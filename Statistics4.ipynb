{
 "cells": [
  {
   "cell_type": "markdown",
   "metadata": {},
   "source": [
    "# Statistics 4: F-Test and T-Test\n",
    "\n",
    "One of the most important things in all of science is understanding whether your results are statistically significant. In other words, is the result you are seeing real or simply random noise? This notebook will help you work through these concepts and learn how to calculate this with Python.\n",
    "\n",
    "First, let's import all the libraries we need. You will notice an additional library, scipy (Scientific Python). We will use the statistical distributions from the scipy.stats library."
   ]
  },
  {
   "cell_type": "code",
   "execution_count": 1,
   "metadata": {},
   "outputs": [],
   "source": [
    "import numpy as np\n",
    "import matplotlib.pyplot as plt\n",
    "import scipy.stats as stats"
   ]
  },
  {
   "cell_type": "markdown",
   "metadata": {},
   "source": [
    "## T Values and Confidence Intervals\n",
    "\n",
    "Let's imagine you are in charge of monitoring water quality for the city of Tucson. You are interested in measuring perfluorooctane-sulfonic acid (PFOS) concentration in water for a city over the course of time using an LC/MS assay. The mean concentration of PFOS is 28 ppt. This seems like a low level, but there is thought to be a health risk above 20 ppt.\n",
    "\n",
    "But, you don't actually know the true mean. You have to infer it from noisy measurement. Let's simulate a series of 4 measurements around this mean with some experimental noise added."
   ]
  },
  {
   "cell_type": "code",
   "execution_count": 2,
   "metadata": {},
   "outputs": [
    {
     "data": {
      "image/png": "[encoded data removed]",
      "text/plain": [
       "<matplotlib.figure.Figure at 0x7fc4337c0cc0>"
      ]
     },
     "metadata": {},
     "output_type": "display_data"
    }
   ],
   "source": [
    "mu = 28 #The theoretical mean\n",
    "sigma = 5 #The theoretical standard deviation\n",
    "n = 4 #The number of data points\n",
    "\n",
    "concs = np.random.normal(mu,sigma, n) #Generates 4 random points with this mean and standard deviation\n",
    "\n",
    "# Calculate the experimental mean and standard deviation of the sample\n",
    "mean = np.mean(concs)\n",
    "std_dev = np.std(concs, ddof=1) # Note: we need to add the ddof term to tell it we have lost one degree of freedom\n",
    "\n",
    "#Plot the results\n",
    "plt.plot(concs, marker =\"o\", linestyle=\" \", label=\"Experimental Data\")\n",
    "plt.hlines(mu, 0, len(concs), linestyle = \"--\", color=\"black\", label=\"Theoretical Mean\")\n",
    "plt.hlines(mean, 0, len(concs), linestyle = \"--\", color=\"red\", label=\"Experimental Mean\")\n",
    "plt.legend()\n",
    "plt.ylabel(\"Concentration (ppt)\")\n",
    "plt.xlabel(\"Measurement Number\")\n",
    "plt.show()"
   ]
  },
  {
   "cell_type": "markdown",
   "metadata": {},
   "source": [
    "You can see that the experimental mean doesn't perfectly match the theoretical mean. \n",
    "\n",
    "Now, we need to calculate the confidence interval for the data. The confidence interval is the mean +/- $\\frac{ts}{\\sqrt{n}}$. The mean and standard deviation are calculated in the code above. Note, we need to remove one degree of freedom from the standard deviation calculation, so we set the delta degrees of freedom (ddof) parameter in the np.std() function to be 1. \n",
    "\n",
    "Now, we need to calculate the $t$ value for the equation. We can do this using the scipy.stats package."
   ]
  },
  {
   "cell_type": "code",
   "execution_count": 3,
   "metadata": {},
   "outputs": [
    {
     "name": "stdout",
     "output_type": "stream",
     "text": [
      "The t value for a 95% confidence level and 3 degrees of freedom is: 3.18244630528\n"
     ]
    }
   ],
   "source": [
    "# Function to calculate the t value in Table 4-4 from the confidence level and the degrees of freedom\n",
    "def calc_t(cl, dof):\n",
    "    return stats.t.ppf(1- ((100-cl)/2/100), dof)\n",
    "\n",
    "# Test it\n",
    "tval = calc_t(95, 3)\n",
    "print(\"The t value for a 95% confidence level and 3 degrees of freedom is:\", tval)"
   ]
  },
  {
   "cell_type": "markdown",
   "metadata": {},
   "source": [
    "**Problem 1:** Calculate the 95% confidence interval for the concs data set above."
   ]
  },
  {
   "cell_type": "code",
   "execution_count": 4,
   "metadata": {},
   "outputs": [
    {
     "name": "stdout",
     "output_type": "stream",
     "text": [
      "The concentration is: 25.6566508814 +/- None  (ppt)\n"
     ]
    }
   ],
   "source": [
    "# Your code here\n",
    "\n",
    "ci = None #Your answer here\n",
    "print(\"The concentration is:\", mean, \"+/-\", ci, \" (ppt)\")"
   ]
  },
  {
   "cell_type": "markdown",
   "metadata": {},
   "source": [
    "**Problem 2:** Calculate the 99% confidence interval for the concs data set above."
   ]
  },
  {
   "cell_type": "code",
   "execution_count": 5,
   "metadata": {},
   "outputs": [
    {
     "name": "stdout",
     "output_type": "stream",
     "text": [
      "The concentration is: 25.6566508814 +/- None  (ppt)\n"
     ]
    }
   ],
   "source": [
    "# Your code here\n",
    "\n",
    "ci = None #Your answer here\n",
    "print(\"The concentration is:\", mean, \"+/-\", ci, \" (ppt)\")"
   ]
  },
  {
   "cell_type": "markdown",
   "metadata": {},
   "source": [
    "You should see that the 99% confidence interval is larger than the 95% confidence interval.\n",
    "\n",
    "The 95% confidence interval means that if you were to make the measurement 100 times, the true population mean (in this case 28 ppt) would fall in the interval 95 times on average.\n",
    "\n",
    "This would take forever to do experimentally but is easy to do with computers. First, we need to learn how to use an \"if\" statement in Python. If statements are fairly commonsense logical statements. If the stament is true, it will execute the indented code. If the statement is false, it will not execute it. You can combine logical tests with \"and\" and \"or\" statements. An \"else\" statment is executed if the \"if\" statement is not executed. Take a look at some examples:"
   ]
  },
  {
   "cell_type": "code",
   "execution_count": 6,
   "metadata": {},
   "outputs": [
    {
     "name": "stdout",
     "output_type": "stream",
     "text": [
      "True\n",
      "Else True\n",
      "2 < 3\n",
      "2 < 3 and 3 < 4\n",
      "Ok, well at least one was correct\n",
      "x equals 2\n",
      "x is not equal to 3\n"
     ]
    }
   ],
   "source": [
    "if True:\n",
    "    print(\"True\")\n",
    "    \n",
    "if False:\n",
    "    print(\"False\")\n",
    "    \n",
    "if False:\n",
    "    print(\"False\")\n",
    "else:\n",
    "    print(\"Else True\")\n",
    "    \n",
    "if 2 < 3: # < is less than\n",
    "    print(\"2 < 3\")\n",
    "    \n",
    "if 3 < 2:\n",
    "    print(\"No way dude!\")\n",
    "    \n",
    "if 2 < 3 and 3 < 4:\n",
    "    print(\"2 < 3 and 3 < 4\")\n",
    "    \n",
    "if 2 < 3 or 2 > 3: # > is greater than\n",
    "    print(\"Ok, well at least one was correct\")\n",
    "    \n",
    "x=2\n",
    "if x==2: # == is a test for equivalence\n",
    "    print('x equals 2')\n",
    "    \n",
    "if x!=3: # != is a test for not equal\n",
    "    print(\"x is not equal to 3\")"
   ]
  },
  {
   "cell_type": "markdown",
   "metadata": {},
   "source": [
    "Now, we want to use a for loop (see Statistics 3 notebook) to loop through 100 experiments. Each loop will generate 4 new data points. We will then calculate the mean and confidence interval. Finally, we will test if the true theoretical mean is outside the experimental confidence interval using an if statement. If the theoretical mean is outside the experimental confidence interval, we will plot it as red. If not, we will plot it as green. We will also tally up the number of \"bad\" measurements. "
   ]
  },
  {
   "cell_type": "code",
   "execution_count": 7,
   "metadata": {},
   "outputs": [
    {
     "data": {
      "image/png": "[encoded data removed]",
      "text/plain": [
       "<matplotlib.figure.Figure at 0x7fc4313652e8>"
      ]
     },
     "metadata": {},
     "output_type": "display_data"
    },
    {
     "name": "stdout",
     "output_type": "stream",
     "text": [
      "2 out of 100 experiments had a confidence interval that didn't include the true mean.\n"
     ]
    }
   ],
   "source": [
    "n_exp = 100  # Set the number of experiments\n",
    "\n",
    "outliers=0  # Initialize the number of outliers to 0\n",
    "for i in range(0, n_exp):  # Loop from 0 to n_exp. i isn't used but we need to loop something.\n",
    "    concs = np.random.normal(mu,sigma, n) #Generates 4 new random points with the same mean and standard deviation\n",
    "    \n",
    "    mean = np.mean(concs) # Calculate the mean\n",
    "    std_dev = np.std(concs, ddof=1) # Calculate the standard deviation\n",
    "    ci = calc_t(95, n-1) * std_dev / np.sqrt(n) # Calculate the confidence interval\n",
    "    \n",
    "    #Test if the true mean, mu, is outside the confidence interval\n",
    "    if mu > mean + ci or mu < mean - ci:\n",
    "        outliers = outliers + 1 # If the true mean is outside the confidence interval, add one to the outliers variable\n",
    "        plt.errorbar(i, mean, yerr=ci, color=\"red\", marker=\"o\") # Make a red plot with error bars on the plot\n",
    "    else:\n",
    "        plt.errorbar(i, mean, yerr=ci, color=\"green\", marker=\"o\") # If the true mean is within the CI, make a green dot.\n",
    "\n",
    "#More plotting commands\n",
    "plt.hlines(mu, 0, n_exp, linestyle = \"--\", color=\"black\", label=\"True Mean\")\n",
    "plt.legend()\n",
    "plt.ylabel(\"Concentration (ppt)\")\n",
    "plt.xlabel(\"Measurement Number\")\n",
    "plt.show()\n",
    "\n",
    "#Print the number of outliers\n",
    "print(outliers, \"out of\", n_exp, \"experiments had a confidence interval that didn't include the true mean.\")"
   ]
  },
  {
   "cell_type": "markdown",
   "metadata": {},
   "source": [
    "Note: you might get exactly 5 of the 100 experiments with confidence intervals that didn't include the mean. Try running it a few more times. Sometimes you will get more or less. This simply reflects the statistical noise, even with 100 measurements.\n",
    "\n",
    "**Problem 3:** Calculate the number of outliers for **200 iterations** and a **50% confidence level** and generate a plot like the red/green one above (you can copy paste code). It should be close to 100 out of 200. "
   ]
  },
  {
   "cell_type": "code",
   "execution_count": 8,
   "metadata": {},
   "outputs": [],
   "source": [
    "# Your Work Here\n"
   ]
  },
  {
   "cell_type": "markdown",
   "metadata": {},
   "source": [
    "You will notice the confidence intervals are much smaller for the 50%. If you are willing to sacrifice that you may be wrong 50% of the time, you can report smaller error bars."
   ]
  },
  {
   "cell_type": "markdown",
   "metadata": {},
   "source": [
    "## T-Test with a \"Known\" Value\n",
    "\n",
    "Ok, now what we understand t values and confidence intervals, let's apply them back to our problem: Is the level of PFOS in the Tucson water supply statistically above the risk threshold of 20 ppt.\n",
    "\n",
    "Here, we are comparing our measured value with a **known or reference value**. This is the simplest t-test because we just need to see if the reference value is within the confidence interval. If the reference value is within the confidence interval, we can say it is not statistically different. If not, we say they are. We will use a 99% confidence interval here to be highly confident in the results.\n",
    "\n",
    "The code below calculates the confidence interval for 4 measurements at the 99% level and plots this in relation to the theoretical mean and the risk level (reference value)."
   ]
  },
  {
   "cell_type": "code",
   "execution_count": 9,
   "metadata": {},
   "outputs": [
    {
     "data": {
      "image/png": "[encoded data removed]",
      "text/plain": [
       "<matplotlib.figure.Figure at 0x7fc430f6f278>"
      ]
     },
     "metadata": {},
     "output_type": "display_data"
    }
   ],
   "source": [
    "mu = 28 #The theoretical mean\n",
    "sigma = 5 #The theoretical standard deviation\n",
    "n = 4 #The number of data points\n",
    "\n",
    "concs = np.random.normal(mu,sigma, n) #Generates 4 random points with this mean and standard deviation\n",
    "\n",
    "# Calculate the experimental mean and standard deviation of the sample\n",
    "mean = np.mean(concs)\n",
    "std_dev = np.std(concs, ddof=1) # Note: we need to add the ddof term to tell it we have lost one degree of freedom\n",
    "ci = calc_t(99, n-1) * std_dev / np.sqrt(n)\n",
    "\n",
    "#Plot the results\n",
    "plt.plot(concs, marker =\"o\", linestyle=\" \", label=\"Experimental Data\")\n",
    "plt.hlines(mu, 0, len(concs), linestyle = \"--\", color=\"black\", label=\"Theoretical Mean\")\n",
    "plt.hlines(mean+ci, 0, len(concs), linestyle = \"-\", color=\"red\", label=\"Confidence Interval\")\n",
    "plt.hlines(mean-ci, 0, len(concs), linestyle = \"-\", color=\"red\")\n",
    "plt.hlines(20, 0, len(concs), linestyle = \"--\", color=\"green\", label=\"Reference Value\")\n",
    "plt.legend()\n",
    "plt.ylabel(\"Concentration (ppt)\")\n",
    "plt.xlabel(\"Measurement Number\")\n",
    "plt.show()"
   ]
  },
  {
   "cell_type": "markdown",
   "metadata": {},
   "source": [
    "On my computer, the green reference value is within the red 99% confidence interval. (If yours doesn't, just pretend with me or rerun the code a few times to see it for yourself.) Thus, we cannot be totally sure this isn't just random noise. We could lower our confidence interval, but that isn't desirable. If you were the water company and needed to invest millions of dollars to remediate the problem, you want to be very confident that this isn't just a random glitch.\n",
    "\n",
    "Instead, let's take more measurements.\n",
    "\n",
    "**Problem 4:** Adjust the code below to achieve a narrower confidence interval such that the green reference value is now outside the confidence interval. You need to change only one parameter, but you must change one. You are not allowed to change the confidence level; it should remain at 99%. You are also not allowed to change mu and sigma. These are fixed properties of the system and measurement. Rerun the code three times in a row and make sure it is statistically significant each time. "
   ]
  },
  {
   "cell_type": "code",
   "execution_count": 10,
   "metadata": {},
   "outputs": [
    {
     "data": {
      "image/png": "[encoded data removed]",
      "text/plain": [
       "<matplotlib.figure.Figure at 0x7fc4314743c8>"
      ]
     },
     "metadata": {},
     "output_type": "display_data"
    }
   ],
   "source": [
    "mu = 28 #The theoretical mean\n",
    "sigma = 5 #The theoretical standard deviation\n",
    "n = 4 #The number of data points\n",
    "\n",
    "concs = np.random.normal(mu,sigma, n) #Generates 4 random points with this mean and standard deviation\n",
    "\n",
    "# Calculate the experimental mean and standard deviation of the sample\n",
    "mean = np.mean(concs)\n",
    "std_dev = np.std(concs, ddof=1) # Note: we need to add the ddof term to tell it we have lost one degree of freedom\n",
    "ci = calc_t(99, n-1) * std_dev / np.sqrt(n)\n",
    "\n",
    "#Plot the results\n",
    "plt.plot(concs, marker =\"o\", linestyle=\" \", label=\"Experimental Data\")\n",
    "plt.hlines(mu, 0, len(concs), linestyle = \"--\", color=\"black\", label=\"Theoretical Mean\")\n",
    "plt.hlines(mean+ci, 0, len(concs), linestyle = \"-\", color=\"red\", label=\"Confidence Interval\")\n",
    "plt.hlines(mean-ci, 0, len(concs), linestyle = \"-\", color=\"red\")\n",
    "plt.hlines(20, 0, len(concs), linestyle = \"--\", color=\"green\", label=\"Reference Value\")\n",
    "plt.legend()\n",
    "plt.ylabel(\"Concentration (ppt)\")\n",
    "plt.xlabel(\"Measurement Number\")\n",
    "plt.show()"
   ]
  },
  {
   "cell_type": "markdown",
   "metadata": {},
   "source": [
    "You can see that by increasing the $n$ value (making more measurements), we can get a more confident quantitation and be sure that the PFOS level is above the risk level. We may still see data points below the risk level line, but we are confident that the mean is above the line. \n",
    "\n",
    "## Comparing Two Samples with T-Tests and F-Tests\n",
    "\n",
    "Ok, your boss is finally convinced that you are onto something and that PFOS levels are a concern. She asks you to start testing some different samples across town to see if the levels are different near a factory that uses PFOS. You collect two different samples, the first set the we measured above from the overall water supply and a new set of data from water collected near the factory. "
   ]
  },
  {
   "cell_type": "code",
   "execution_count": 11,
   "metadata": {},
   "outputs": [
    {
     "data": {
      "image/png": "[encoded data removed]",
      "text/plain": [
       "<matplotlib.figure.Figure at 0x7fc430f55cf8>"
      ]
     },
     "metadata": {},
     "output_type": "display_data"
    }
   ],
   "source": [
    "# Data Set 1: The general water supply\n",
    "mu = 28 #The theoretical mean\n",
    "sigma = 5 #The theoretical standard deviation\n",
    "n = 4 #The number of data points\n",
    "\n",
    "concs = np.random.normal(mu,sigma, n) #Generates 4 random points with this mean and standard deviation\n",
    "mean = np.mean(concs)\n",
    "std_dev = np.std(concs, ddof=1) \n",
    "\n",
    "# Data Set 2: Collected near the factory\n",
    "mu2 = 35\n",
    "sigma2 = 6\n",
    "n2 = 4\n",
    "\n",
    "concs2 = np.random.normal(mu2,sigma2, n2)\n",
    "mean2 = np.mean(concs2)\n",
    "std_dev2 = np.std(concs2, ddof=1) \n",
    "\n",
    "#Plot the results\n",
    "plt.plot(concs, marker =\"o\", linestyle=\" \", color=\"blue\", label=\"Experimental Data 1\")\n",
    "plt.plot(concs2, marker =\"o\", linestyle=\" \", color=\"orange\", label=\"Experimental Data 2\")\n",
    "plt.hlines(mu, 0, len(concs), linestyle = \"--\", color=\"blue\", label=\"Theoretical Mean 1\")\n",
    "plt.hlines(mu2, 0, len(concs2), linestyle = \"--\", color=\"orange\", label=\"Theoretical Mean 2\")\n",
    "plt.legend()\n",
    "plt.ylabel(\"Concentration (ppt)\")\n",
    "plt.xlabel(\"Measurement Number\")\n",
    "plt.show()"
   ]
  },
  {
   "cell_type": "markdown",
   "metadata": {},
   "source": [
    "Before we can do a t-test to determine if the the levels are statistically higher near the factory, we need to do an F-test to see if the standard deviations are statistically different. We need different statistical tests in either case. \n",
    "\n",
    "To do an F-test, we first need to calculate the F value from the standard deviations. \n",
    "\n",
    "**Problem 5:** Using equation 4-6 from Harris, $F_{calc} = \\frac{s_1^2}{s_2^2}$, calculate the $F_{calc}$ value and compare it with the $F_{table}$ value calculated below. Print the $F_{calc}$ value. Write an \"if\" statement to decide if your standard deviations are statistically different and print either \"Statistically Significant\" or \"Not Significant\". "
   ]
  },
  {
   "cell_type": "code",
   "execution_count": 12,
   "metadata": {},
   "outputs": [
    {
     "name": "stdout",
     "output_type": "stream",
     "text": [
      "F_table is: 15.9770248526 for a confidence level of 99\n"
     ]
    }
   ],
   "source": [
    "cl=99 # A 99% confidence level\n",
    "\n",
    "# We need to test if the standard deviation is greater for sample 1 or sample 2\n",
    "# The F values are calculated assuming s1>s2. If this isn't the case, we need to flip the degrees of freedom and std_devs\n",
    "if std_dev > std_dev2:\n",
    "    dfn = n # Degrees of Freedom in the numerator (the larger standard deviation)\n",
    "    dfd = n2 # Degrees of Freedom in the denominator (the smaller standard deviation)\n",
    "    s1 = std_dev\n",
    "    s2 = std_dev2\n",
    "else:\n",
    "    dfn = n2\n",
    "    dfd = n\n",
    "    s1 = std_dev2\n",
    "    s2 = std_dev\n",
    "\n",
    "#Calculate the F table value\n",
    "F_table = stats.f.ppf(q=cl/100, dfn=dfn, dfd=dfd)\n",
    "print(\"F_table is:\", F_table, \"for a confidence level of\", cl)\n",
    "\n",
    "\n",
    "# Your Code Here\n",
    "\n"
   ]
  },
  {
   "cell_type": "markdown",
   "metadata": {},
   "source": [
    "Most times I run this code, I get a result that they are not statistically significant. Thus, we need to use Equations 4-9a and 4-10a in Harris to calculate the $t$ value. First, we need to calculate the pooled standard deviation: $s_{pooled} = \\sqrt{\\frac{s_1^2 (n_1 -1) + s_2^2 (n_2 -1)}{n_1 + n_2 - 2}}$. You should see that the $s_{pooled}$ is close to the average of the two standard deviations."
   ]
  },
  {
   "cell_type": "code",
   "execution_count": 13,
   "metadata": {},
   "outputs": [
    {
     "name": "stdout",
     "output_type": "stream",
     "text": [
      "s_1: 4.66962860997\n",
      "s_2: 4.40206494581\n",
      "s_pooled: 4.5378192528\n"
     ]
    }
   ],
   "source": [
    "s_pooled = np.sqrt(((n-1)*std_dev**2 + (n2-1)*std_dev2**2)/(n+n2-2))\n",
    "print(\"s_1:\", s1)\n",
    "print(\"s_2:\", s2)\n",
    "print(\"s_pooled:\",s_pooled)"
   ]
  },
  {
   "cell_type": "markdown",
   "metadata": {},
   "source": [
    "Next, we calculate the $t$ value from the equation: $t = \\frac{\\mid mean_1 - mean_2 \\mid}{s_{pooled}} \\sqrt{\\frac{n_1 n_2}{n_1+n_2}}$"
   ]
  },
  {
   "cell_type": "code",
   "execution_count": 14,
   "metadata": {},
   "outputs": [
    {
     "name": "stdout",
     "output_type": "stream",
     "text": [
      "t_calc: 4.51755673833\n"
     ]
    }
   ],
   "source": [
    "t_calc = np.abs(mean - mean2)/s_pooled * np.sqrt((n*n2)/(n+n2))\n",
    "print(\"t_calc:\", t_calc)"
   ]
  },
  {
   "cell_type": "markdown",
   "metadata": {},
   "source": [
    "Finally, we need to get the t_table from the code above. The degrees of freedom is $n_1 + n_2 -2$ because we need to remove one degree of freedom for each mean measured."
   ]
  },
  {
   "cell_type": "code",
   "execution_count": 15,
   "metadata": {},
   "outputs": [
    {
     "name": "stdout",
     "output_type": "stream",
     "text": [
      "t_table 3.70742802132\n"
     ]
    }
   ],
   "source": [
    "dof = n+n2-2\n",
    "t_table = calc_t(cl, dof) #cl is 99 from the F-test above and calc_t is the function defined above\n",
    "print(\"t_table\", t_table)"
   ]
  },
  {
   "cell_type": "markdown",
   "metadata": {},
   "source": [
    "Similar to the F-test, if $t_{calc} < t_{table}$ the results are not significant. Let's put it all together into one block of code:"
   ]
  },
  {
   "cell_type": "code",
   "execution_count": 16,
   "metadata": {},
   "outputs": [
    {
     "name": "stdout",
     "output_type": "stream",
     "text": [
      "t_calc: 7.48870625511\n",
      "t_table 3.70742802132\n",
      "Statistically Significant\n"
     ]
    },
    {
     "data": {
      "image/png": "[encoded data removed]",
      "text/plain": [
       "<matplotlib.figure.Figure at 0x7fc430f18470>"
      ]
     },
     "metadata": {},
     "output_type": "display_data"
    }
   ],
   "source": [
    "# Data Set 1: The general water supply\n",
    "mu = 28 #The theoretical mean\n",
    "sigma = 5 #The theoretical standard deviation\n",
    "n = 4 #The number of data points\n",
    "concs = np.random.normal(mu,sigma, n) #Generates 4 random points with this mean and standard deviation\n",
    "mean = np.mean(concs)\n",
    "std_dev = np.std(concs, ddof=1) \n",
    "\n",
    "# Data Set 2: Collected near the factory\n",
    "mu2 = 35\n",
    "sigma2 = 6\n",
    "n2 = 4\n",
    "concs2 = np.random.normal(mu2,sigma2, n2)\n",
    "mean2 = np.mean(concs2)\n",
    "std_dev2 = np.std(concs2, ddof=1) \n",
    "\n",
    "# T Test \n",
    "s_pooled = np.sqrt(((n-1)*std_dev**2 + (n2-1)*std_dev2**2)/(n+n2-2))\n",
    "t_calc = np.abs(mean - mean2)/s_pooled * np.sqrt((n*n2)/(n+n2))\n",
    "print(\"t_calc:\", t_calc)\n",
    "dof = n+n2-2\n",
    "t_table = calc_t(cl, dof)\n",
    "print(\"t_table\", t_table)\n",
    "\n",
    "if t_calc > t_table:\n",
    "    print(\"Statistically Significant\")\n",
    "else:\n",
    "    print(\"Not Significant\")\n",
    "    \n",
    "#Plot the results\n",
    "plt.plot(concs, marker =\"o\", linestyle=\" \", color=\"blue\", label=\"Experimental Data 1\")\n",
    "plt.plot(concs2, marker =\"o\", linestyle=\" \", color=\"orange\", label=\"Experimental Data 2\")\n",
    "plt.hlines(mu, 0, len(concs), linestyle = \"--\", color=\"blue\", label=\"Theoretical Mean 1\")\n",
    "plt.hlines(mu2, 0, len(concs2), linestyle = \"--\", color=\"orange\", label=\"Theoretical Mean 2\")\n",
    "plt.legend()\n",
    "plt.ylabel(\"Concentration (ppt)\")\n",
    "plt.xlabel(\"Measurement Number\")\n",
    "plt.show()"
   ]
  },
  {
   "cell_type": "markdown",
   "metadata": {},
   "source": [
    "Every time I run the code above, the results are not significant. Thus, you would conclude that the factory is not significantly contributing to the PFOS levels. But, you are not convinced. You think sampling the output from the factory directly might help. You return with a fresh batch of samples. Here, you find that the standard deviation is much smaller. "
   ]
  },
  {
   "cell_type": "code",
   "execution_count": 17,
   "metadata": {},
   "outputs": [
    {
     "name": "stdout",
     "output_type": "stream",
     "text": [
      "F_table is: 15.9770248526 for a confidence level of 99\n",
      "The F Value is: 2295.11637079\n",
      "Statistically Significant\n"
     ]
    },
    {
     "data": {
      "image/png": "[encoded data removed]",
      "text/plain": [
       "<matplotlib.figure.Figure at 0x7fc43120b828>"
      ]
     },
     "metadata": {},
     "output_type": "display_data"
    }
   ],
   "source": [
    "# Data Set 1: The general water supply\n",
    "mu = 28 #The theoretical mean\n",
    "sigma = 5 #The theoretical standard deviation\n",
    "n = 4 #The number of data points\n",
    "concs = np.random.normal(mu,sigma, n) #Generates 4 random points with this mean and standard deviation\n",
    "mean = np.mean(concs)\n",
    "std_dev = np.std(concs, ddof=1) \n",
    "\n",
    "# Data Set 2: The factory output\n",
    "mu2 = 35\n",
    "sigma2 = 0.5 # NOTE: This is changed from the data above.\n",
    "n2 = 4\n",
    "concs2 = np.random.normal(mu2,sigma2, n2)\n",
    "mean2 = np.mean(concs2)\n",
    "std_dev2 = np.std(concs2, ddof=1) \n",
    "\n",
    "\n",
    "cl=99 # A 99% confidence level\n",
    "if std_dev > std_dev2:\n",
    "    dfn = n # Degrees of Freedom in the numerator (the larger standard deviation)\n",
    "    dfd = n2 # Degrees of Freedom in the denominator (the smaller standard deviation)\n",
    "    s1 = std_dev\n",
    "    s2 = std_dev2\n",
    "else:\n",
    "    dfn = n2\n",
    "    dfd = n\n",
    "    s1 = std_dev2\n",
    "    s2 = std_dev\n",
    "\n",
    "#Calculate the F table value\n",
    "F_table = stats.f.ppf(q=cl/100, dfn=dfn, dfd=dfd)\n",
    "print(\"F_table is:\", F_table, \"for a confidence level of\", cl)\n",
    "# Calculate the F calc value\n",
    "F_calc = s1**2/s2**2\n",
    "print(\"The F Value is:\", F_calc)\n",
    "# Compare the F_calc and F_table to determine the significance. \n",
    "if F_calc > F_table:\n",
    "    print(\"Statistically Significant\")\n",
    "else:\n",
    "    print(\"Not Significant\")\n",
    "\n",
    "#Plot the results\n",
    "plt.plot(concs, marker =\"o\", linestyle=\" \", color=\"blue\", label=\"Experimental Data 1\")\n",
    "plt.plot(concs2, marker =\"o\", linestyle=\" \", color=\"orange\", label=\"Experimental Data 2\")\n",
    "plt.hlines(mu, 0, len(concs), linestyle = \"--\", color=\"blue\", label=\"Theoretical Mean 1\")\n",
    "plt.hlines(mu2, 0, len(concs2), linestyle = \"--\", color=\"orange\", label=\"Theoretical Mean 2\")\n",
    "plt.legend()\n",
    "plt.ylabel(\"Concentration (ppt)\")\n",
    "plt.xlabel(\"Measurement Number\")\n",
    "plt.show()"
   ]
  },
  {
   "cell_type": "markdown",
   "metadata": {},
   "source": [
    "\"Excellent work!\" Your boss is excited by the more precise sampling, but you still need to perform the t-test. Because the standard deviations are statistically different, we need to use a different way to calculate t, Equations 4-9b:\n",
    "\n",
    "$t = \\frac{\\mid mean_1 - mean_2 \\mid}{\\sqrt{s_1^2/n_1 + s_2^2/n_2}}$\n",
    "\n",
    "You also need to calculate the degrees of freedom differently based on Equation 4-10b:\n",
    "\n",
    "$ dof = \\frac{(s_1^2/n_1 + s_2^2/n_2)^2}{\\frac{(s_1^2/n_1)^2}{n_1-1} + \\frac{(s_2^2/n_2)^2}{n_2-1}}$\n",
    "\n",
    "Because I am a kind professor, I've calculated the degress of freedom for you below."
   ]
  },
  {
   "cell_type": "code",
   "execution_count": 18,
   "metadata": {},
   "outputs": [
    {
     "name": "stdout",
     "output_type": "stream",
     "text": [
      "Degrees of Freedom: 3.0\n"
     ]
    }
   ],
   "source": [
    "s1n1 = s1**2/n\n",
    "s2n2 = s2**2/n2\n",
    "dof = round((s1n1 + s2n2)**2 / ((s1n1**2/(n-1)) + (s2n2**2/(n2-1))))\n",
    "print(\"Degrees of Freedom:\", dof)"
   ]
  },
  {
   "cell_type": "markdown",
   "metadata": {},
   "source": [
    "**Problem 6:** Use the equation 4-9b to determine if the results are significantly different. Write an \"if\" statement to decide if your standard deviations are statistically different and print either \"Statistically Significant\" or \"Not Significant\". "
   ]
  },
  {
   "cell_type": "code",
   "execution_count": 19,
   "metadata": {},
   "outputs": [],
   "source": [
    "# Your Code Here\n"
   ]
  },
  {
   "cell_type": "markdown",
   "metadata": {},
   "source": [
    "Bummer! It's still not statistically significant (probably). Clearly, your sampling is better, but the standard deviation of the initial result is a problem. You suspect that matrix effects in the general water supply are the problem and redesign your LC/MS method to have an improved separation. This reduces the standard deviation of your measurements. "
   ]
  },
  {
   "cell_type": "code",
   "execution_count": 20,
   "metadata": {},
   "outputs": [
    {
     "data": {
      "image/png": "[encoded data removed]",
      "text/plain": [
       "<matplotlib.figure.Figure at 0x7fc430f18b70>"
      ]
     },
     "metadata": {},
     "output_type": "display_data"
    }
   ],
   "source": [
    "# Data Set 1: The improved data from the general water supply\n",
    "mu = 28\n",
    "sigma = 1 # NOTE: This has changed from above.\n",
    "n = 4\n",
    "concs = np.random.normal(mu,sigma, n) \n",
    "mean = np.mean(concs)\n",
    "std_dev = np.std(concs, ddof=1) \n",
    "\n",
    "# Data Set 2: The improved data from the factory output\n",
    "mu2 = 35\n",
    "sigma2 = 0.5\n",
    "n2 = 4\n",
    "concs2 = np.random.normal(mu2,sigma2, n2)\n",
    "mean2 = np.mean(concs2)\n",
    "std_dev2 = np.std(concs2, ddof=1) \n",
    "\n",
    "#Plot the results\n",
    "plt.plot(concs, marker =\"o\", linestyle=\" \", color=\"blue\", label=\"Experimental Data 1\")\n",
    "plt.plot(concs2, marker =\"o\", linestyle=\" \", color=\"orange\", label=\"Experimental Data 2\")\n",
    "plt.hlines(mu, 0, len(concs), linestyle = \"--\", color=\"blue\", label=\"Theoretical Mean 1\")\n",
    "plt.hlines(mu2, 0, len(concs2), linestyle = \"--\", color=\"orange\", label=\"Theoretical Mean 2\")\n",
    "plt.legend()\n",
    "plt.ylabel(\"Concentration (ppt)\")\n",
    "plt.xlabel(\"Measurement Number\")\n",
    "plt.show()\n"
   ]
  },
  {
   "cell_type": "markdown",
   "metadata": {},
   "source": [
    "**Problem 7:** Use a combination of F-test and t-tests to determine whether the two data sets in the code directly above are statistically different."
   ]
  },
  {
   "cell_type": "code",
   "execution_count": 21,
   "metadata": {},
   "outputs": [],
   "source": [
    "# Your code here\n"
   ]
  },
  {
   "cell_type": "markdown",
   "metadata": {},
   "source": [
    "## Paired t-tests: Comparing two measurements of the same sample\n",
    "\n",
    "Ok. Your boss agrees that these are troubling and need to be monitored more closely. She invests in buying some new analytical instruments to handle the extra measurements that will need to be done. You need to compare these new instruments with the old ones. You make two sets of measurements. Both are on the same sets of samples. In other words, you measure sample 1 on both the old instrument and the new instrument. The difference from above is that this is the same sample in each case. You generate 2 data sets:"
   ]
  },
  {
   "cell_type": "code",
   "execution_count": 22,
   "metadata": {},
   "outputs": [],
   "source": [
    "# Data Set 1: From the old instrument\n",
    "mu = 28\n",
    "sigma = 1 \n",
    "n = 4\n",
    "concs = np.random.normal(mu,sigma, n) \n",
    "\n",
    "# Data Set 2: From the new instrument\n",
    "mu2 = 28\n",
    "sigma2 = 0.5\n",
    "concs2 = np.random.normal(mu2,sigma2, n) #Note: there is no n2 parameter here. They have to be the same length."
   ]
  },
  {
   "cell_type": "markdown",
   "metadata": {},
   "source": [
    "Here, we need to use Equations 4-11 and 4-12 in the textbook. These rely on calculating the mean ($mean_d$) and standard devation ($s_d$) of the **differences between the same sample in each data set**. "
   ]
  },
  {
   "cell_type": "code",
   "execution_count": 23,
   "metadata": {},
   "outputs": [],
   "source": [
    "# Calculate the differences between the two measurements\n",
    "d = concs - concs2\n",
    "\n",
    "# Calculate the mean and standard deviation of the differences.\n",
    "meand = np.mean(d)\n",
    "stdd = np.std(d, ddof=1)"
   ]
  },
  {
   "cell_type": "markdown",
   "metadata": {},
   "source": [
    "The equation for $t_{calc}$ here is 4-12: $t_{calc} = \\frac{\\mid mean_d \\mid}{s_d} \\sqrt{n}$"
   ]
  },
  {
   "cell_type": "markdown",
   "metadata": {},
   "source": [
    "**Problem 8:** Calculate $t_{calc}$ and $t_{table}$ for this measurement. Print whether it is statistically significant or not. Hint: the degrees of freedom will be $n-1$. "
   ]
  },
  {
   "cell_type": "code",
   "execution_count": 24,
   "metadata": {},
   "outputs": [],
   "source": [
    "# Your code here\n"
   ]
  },
  {
   "cell_type": "markdown",
   "metadata": {},
   "source": [
    "Hooray! You have validated that the new instrument is as good as the old, and the results are not statistically different. You are now set to run more vigorous testing for this potentially dangerous molecule in the Tucson water system. Isn't analytical chemistry the coolest!?!"
   ]
  },
  {
   "cell_type": "code",
   "execution_count": 25,
   "metadata": {},
   "outputs": [
    {
     "name": "stdout",
     "output_type": "stream",
     "text": [
      "Yes, Prof. Marty, analytical chemistry is definitely the coolest!\n"
     ]
    }
   ],
   "source": [
    "print(\"Yes, Prof. Marty, analytical chemistry is definitely the coolest!\")"
   ]
  }
 ],
 "metadata": {
  "kernelspec": {
   "display_name": "Python 3",
   "language": "python",
   "name": "python3"
  },
  "language_info": {
   "codemirror_mode": {
    "name": "ipython",
    "version": 3
   },
   "file_extension": ".py",
   "mimetype": "text/x-python",
   "name": "python",
   "nbconvert_exporter": "python",
   "pygments_lexer": "ipython3",
   "version": "3.6.2"
  }
 },
 "nbformat": 4,
 "nbformat_minor": 2
}
